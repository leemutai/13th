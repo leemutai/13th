{
  "nbformat": 4,
  "nbformat_minor": 0,
  "metadata": {
    "colab": {
      "provenance": [],
      "authorship_tag": "ABX9TyNZ6+8FWOZ0f0pSwbV0JIMC",
      "include_colab_link": true
    },
    "kernelspec": {
      "name": "python3",
      "display_name": "Python 3"
    },
    "language_info": {
      "name": "python"
    }
  },
  "cells": [
    {
      "cell_type": "markdown",
      "metadata": {
        "id": "view-in-github",
        "colab_type": "text"
      },
      "source": [
        "<a href=\"https://colab.research.google.com/github/leemutai/13th/blob/main/sample.ipynb\" target=\"_parent\"><img src=\"https://colab.research.google.com/assets/colab-badge.svg\" alt=\"Open In Colab\"/></a>"
      ]
    },
    {
      "cell_type": "code",
      "execution_count": 3,
      "metadata": {
        "colab": {
          "base_uri": "https://localhost:8080/"
        },
        "id": "w-XcuufYPOPe",
        "outputId": "e3ab91dc-f46b-4500-f858-ecf08bbc4223"
      },
      "outputs": [
        {
          "output_type": "stream",
          "name": "stdout",
          "text": [
            "12\n",
            "HelloWorld\n"
          ]
        }
      ],
      "source": [
        "x = 34-23\n",
        "y = \"Hello\"\n",
        "z= 3.45\n",
        "if z == 3.45 or y ==\"Hello\":\n",
        "    x = x+1\n",
        "    y = y + \"World\"\n",
        "print(x)\n",
        "print(y)"
      ]
    },
    {
      "cell_type": "code",
      "source": [
        "#python opertations\n",
        "x= 3\n",
        "print(x)\n",
        "print(x+1)\n",
        "print(x-1)\n",
        "print(x*2)\n",
        "print(x**2)\n",
        "x+=1\n",
        "print(x)\n",
        "x *= 2\n",
        "print(x)\n",
        "y=2.5\n",
        "print(y,y+1,y+2,y**2)"
      ],
      "metadata": {
        "colab": {
          "base_uri": "https://localhost:8080/"
        },
        "id": "oxwYTjtyQdZK",
        "outputId": "e0baa2f4-9241-4ada-cdee-66df2a5f4a7a"
      },
      "execution_count": 11,
      "outputs": [
        {
          "output_type": "stream",
          "name": "stdout",
          "text": [
            "3\n",
            "4\n",
            "2\n",
            "6\n",
            "9\n",
            "4\n",
            "8\n",
            "2.5 3.5 4.5 6.25\n"
          ]
        }
      ]
    },
    {
      "cell_type": "code",
      "source": [
        "#functions in python\n",
        "def sign(x):\n",
        "  if x>0:\n",
        "    return 'positive'\n",
        "  elif x<0:\n",
        "    return 'negative'\n",
        "  else:\n",
        "    return 'zero'\n",
        "  for x in [-1,0,1]:\n",
        "    print(sign(x))"
      ],
      "metadata": {
        "id": "1N3KVYdjRPFt"
      },
      "execution_count": 12,
      "outputs": []
    },
    {
      "cell_type": "code",
      "source": [
        "import numpy as np\n",
        "\n",
        "scores = [89, 56, 34, 76, 89, 98]\n",
        "first_arr = np.array(scores)\n",
        "print(first_arr)\n",
        "\n",
        "S = np.sum(first_arr)\n",
        "print(S)\n",
        "\n",
        "mn = np.min(first_arr)\n",
        "mx = np.max(first_arr)\n",
        "print(mn)\n",
        "print(mx)\n",
        "\n",
        "e = np.random.random((2, 2))  # create an array filled with random values\n",
        "print(e)\n",
        "\n",
        "datamean =np.mean(first_arr)\n",
        "print(datamean)\n",
        "datasum=np.sum(first_arr)\n",
        "print(datasum)\n"
      ],
      "metadata": {
        "colab": {
          "base_uri": "https://localhost:8080/"
        },
        "id": "TCnp23gDR-Rq",
        "outputId": "b1ba4c1c-1283-41e6-f316-e33ffb7d2248"
      },
      "execution_count": 17,
      "outputs": [
        {
          "output_type": "stream",
          "name": "stdout",
          "text": [
            "[89 56 34 76 89 98]\n",
            "442\n",
            "34\n",
            "98\n",
            "[[0.28696364 0.31456989]\n",
            " [0.47154718 0.96334976]]\n",
            "73.66666666666667\n",
            "442\n"
          ]
        }
      ]
    },
    {
      "cell_type": "code",
      "source": [
        "import numpy as np  # Import the NumPy library and alias it as np\n",
        "\n",
        "dt = np.random.randint(5, 15, 20)  # Generate an array of 20 random integers between 5 and 14 inclusive\n",
        "print(dt)  # Print the generated array\n",
        "\n",
        "np.mean(dt)  # Calculate the mean of the array (this line doesn't print or store the mean)\n",
        "\n",
        "np.median(dt)  # Calculate the median of the array (this line doesn't print or store the median)\n",
        "\n",
        "from statistics import mode  # Import the mode function from the statistics module\n",
        "\n",
        "mode(dt)  # Calculate the mode of the array and return the most common value\n"
      ],
      "metadata": {
        "colab": {
          "base_uri": "https://localhost:8080/"
        },
        "id": "URNKVMbgUjRL",
        "outputId": "92591ebf-94a9-4577-e173-48540c96746f"
      },
      "execution_count": 18,
      "outputs": [
        {
          "output_type": "stream",
          "name": "stdout",
          "text": [
            "[ 6 11  8 11  8 12  5 12 14  7  8 13  8 14  9  5 12 10  7 14]\n"
          ]
        },
        {
          "output_type": "execute_result",
          "data": {
            "text/plain": [
              "8"
            ]
          },
          "metadata": {},
          "execution_count": 18
        }
      ]
    },
    {
      "cell_type": "code",
      "source": [
        "import numpy as np  # Import the NumPy library and alias it as np\n",
        "\n",
        "a = np.array([1, 2, 3])  # Create a 1-dimensional NumPy array with elements 1, 2, and 3\n",
        "print(a)  # Print the array\n",
        "\n",
        "a = np.array([[1, 2], [3, 4]])  # Create a 2-dimensional NumPy array with elements arranged in a 2x2 matrix\n",
        "print(a)  # Print the array\n",
        "\n",
        "# This line raises a syntax error as the array constructor is incorrectly used\n",
        "# The correct way to create a 2-dimensional array is to enclose each row in a list\n",
        "# Here, we'll fix it by surrounding both lists with square brackets\n",
        "a = np.array([[1, 2, 3], [4, 5, 6]])\n",
        "print(a)  # Print the corrected array\n",
        "\n",
        "# This line raises a TypeError as the shape attribute is assigned with a float (3.2)\n",
        "# The shape attribute should be assigned with a tuple containing the desired dimensions\n",
        "# Let's fix it by assigning the shape attribute with a tuple (3, 2)\n",
        "a.shape = (3, 2)\n",
        "print(a)  # Print the reshaped array\n"
      ],
      "metadata": {
        "colab": {
          "base_uri": "https://localhost:8080/"
        },
        "id": "Fkq0PWnKVKZq",
        "outputId": "894042e3-85e0-4dc5-b48c-9350a4f730a6"
      },
      "execution_count": 23,
      "outputs": [
        {
          "output_type": "stream",
          "name": "stdout",
          "text": [
            "[1 2 3]\n",
            "[[1 2]\n",
            " [3 4]]\n",
            "[[1 2 3]\n",
            " [4 5 6]]\n",
            "[[1 2]\n",
            " [3 4]\n",
            " [5 6]]\n"
          ]
        }
      ]
    },
    {
      "cell_type": "code",
      "source": [
        "#array maths\n",
        "x = np.array([])"
      ],
      "metadata": {
        "id": "3WJkNfmpWYe4"
      },
      "execution_count": null,
      "outputs": []
    }
  ]
}